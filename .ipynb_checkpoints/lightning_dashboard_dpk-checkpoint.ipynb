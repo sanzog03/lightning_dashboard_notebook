{
 "cells": [
  {
   "cell_type": "code",
   "execution_count": 1,
   "id": "4ecdee2e-cb0c-440d-804b-056d64cd9277",
   "metadata": {},
   "outputs": [],
   "source": [
    "import rasterio\n",
    "from rasterio.plot import show\n",
    "import matplotlib.pyplot as plt"
   ]
  },
  {
   "cell_type": "code",
   "execution_count": 2,
   "id": "1d06f0d0-c972-49ed-8774-ee1c85dc7ca7",
   "metadata": {},
   "outputs": [],
   "source": [
    "# base configs and dictonary defination\n",
    "baseurl = \"https://ghrc-cog.s3.us-west-2.amazonaws.com/TRMM-LIS\"\n",
    "\n",
    "types_CGTIF = {\n",
    "     \"annual\": { \"name\": \"VHRAC\", \"dt\": \"Time\"},\n",
    "     \"daily\": { \"name\": \"VHRDC\", \"dt\": \"Time\"},\n",
    "     \"monthly\": { \"name\": \"VHRMC\", \"dt\": \"Month\"},\n",
    "     \"season\": { \"name\": \"VHRSC\", \"dt\": \"Season\"}\n",
    "}"
   ]
  },
  {
   "cell_type": "code",
   "execution_count": 3,
   "id": "551328e0",
   "metadata": {},
   "outputs": [
    {
     "data": {
      "application/vnd.jupyter.widget-view+json": {
       "model_id": "2de4adaada6e4a89961109e807584fe0",
       "version_major": 2,
       "version_minor": 0
      },
      "text/plain": [
       "Dropdown(description='Type:', options=('annual', 'daily', 'monthly', 'season'), value='annual')"
      ]
     },
     "metadata": {},
     "output_type": "display_data"
    }
   ],
   "source": [
    "import ipywidgets as widgets\n",
    "from IPython.display import display\n",
    "\n",
    "type = types_CGTIF['annual']\n",
    "    \n",
    "w = widgets.Dropdown(\n",
    "    options=['annual','daily','monthly','season'],\n",
    "    value='annual',\n",
    "    description='Type:',\n",
    ")\n",
    "\n",
    "def on_change(change):\n",
    "    if change['type'] == 'change' and change['name'] == 'value':\n",
    "        global type\n",
    "        type = types_CGTIF[str(change['new'])]\n",
    "        \n",
    "w.observe(on_change)\n",
    "\n",
    "display(w)\n",
    "\n",
    "#data = \"data according to type name and its data type (dt)\" #maybe put a validation\n",
    "def func(type): \n",
    "    global data\n",
    "    data_type = type['name']\n",
    "    if(data_type == 'VHRAC'):\n",
    "        data = int(input('Please enter the Day between 1 - 365: '))\n",
    "    elif(data_type == 'VHRDC'):\n",
    "        data = int(input('Please enter the Hour between 0 - 23: '))\n",
    "    elif(data_type == 'VHRMC'):\n",
    "        data = int(input('Please enter the Month between 1 - 12: '))\n",
    "    elif(data_type == 'VHRSC'):\n",
    "        data = int(input('Please enter the Season between 1 - 4: '))          \n"
   ]
  },
  {
   "cell_type": "code",
   "execution_count": 4,
   "id": "f8f3e443",
   "metadata": {},
   "outputs": [
    {
     "name": "stdin",
     "output_type": "stream",
     "text": [
      "Please enter the Day between 1 - 365:  233\n"
     ]
    },
    {
     "name": "stdout",
     "output_type": "stream",
     "text": [
      "https://ghrc-cog.s3.us-west-2.amazonaws.com/TRMM-LIS/VHRAC_LIS_FRD_cogs/VHRAC_LIS_FRD_Time_233.0_co.tif\n"
     ]
    },
    {
     "name": "stderr",
     "output_type": "stream",
     "text": [
      "Warning 1: HTTP response code on https://ghrc-cog.s3.us-west-2.amazonaws.com/TRMM-LIS/VHRAC_LIS_FRD_cogs/VHRAC_LIS_FRD_Time_233.0_co.tif.msk: 403\n",
      "Warning 1: HTTP response code on https://ghrc-cog.s3.us-west-2.amazonaws.com/TRMM-LIS/VHRAC_LIS_FRD_cogs/VHRAC_LIS_FRD_Time_233.0_co.tif.MSK: 403\n"
     ]
    },
    {
     "data": {
      "image/png": "[encoded data removed]",
      "text/plain": [
       "<Figure size 432x288 with 1 Axes>"
      ]
     },
     "metadata": {
      "needs_background": "light"
     },
     "output_type": "display_data"
    },
    {
     "data": {
      "text/plain": [
       "<AxesSubplot:>"
      ]
     },
     "execution_count": 4,
     "metadata": {},
     "output_type": "execute_result"
    }
   ],
   "source": [
    "func(type)\n",
    "URL = f'{baseurl}/{type[\"name\"]}_LIS_FRD_cogs/{type[\"name\"]}_LIS_FRD_{type[\"dt\"]}_{data}.0_co.tif'\n",
    "print(URL)\n",
    "\n",
    "dataset = rasterio.open(URL)\n",
    "show(dataset)"
   ]
  },
  {
   "cell_type": "code",
   "execution_count": 5,
   "id": "0289eab5",
   "metadata": {},
   "outputs": [
    {
     "name": "stdout",
     "output_type": "stream",
     "text": [
      "1\n",
      "3600 x  760\n",
      "EPSG:4326\n"
     ]
    }
   ],
   "source": [
    "print(dataset.count)\n",
    "print(f'{dataset.width} x  {dataset.height}')\n",
    "print(dataset.crs)"
   ]
  },
  {
   "cell_type": "code",
   "execution_count": null,
   "id": "063df177",
   "metadata": {},
   "outputs": [],
   "source": []
  },
  {
   "cell_type": "code",
   "execution_count": null,
   "id": "4f09427c",
   "metadata": {},
   "outputs": [],
   "source": []
  }
 ],
 "metadata": {
  "kernelspec": {
   "display_name": "Python 3 (ipykernel)",
   "language": "python",
   "name": "python3"
  },
  "language_info": {
   "codemirror_mode": {
    "name": "ipython",
    "version": 3
   },
   "file_extension": ".py",
   "mimetype": "text/x-python",
   "name": "python",
   "nbconvert_exporter": "python",
   "pygments_lexer": "ipython3",
   "version": "3.10.4"
  }
 },
 "nbformat": 4,
 "nbformat_minor": 5
}
